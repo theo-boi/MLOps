{
 "cells": [
  {
   "cell_type": "markdown",
   "metadata": {
    "_cell_guid": "654456b6-e648-0379-0d66-1cc97af6d00d",
    "_uuid": "6b48ce0e361bdb67689dd2f254ecedd9ade1f5ff"
   },
   "source": [
    "Import all required libraries\n",
    "============================="
   ]
  },
  {
   "cell_type": "code",
   "execution_count": 1,
   "metadata": {
    "_cell_guid": "e5b02688-c589-5a89-e11c-837c6a99eb6e",
    "_uuid": "f043e48097bfd98e41710142dd8aac41fa88a801"
   },
   "outputs": [
    {
     "name": "stdout",
     "output_type": "stream",
     "text": [
      ".ipynb_checkpoints\n",
      "sample_submission.csv\n",
      "test.csv\n",
      "train.csv\n"
     ]
    }
   ],
   "source": [
    "import numpy as np # linear algebra\n",
    "import pandas as pd # data processing, CSV file I/O (e.g. pd.read_csv)\n",
    "\n",
    "import matplotlib.pyplot as plt\n",
    "%matplotlib inline\n",
    "\n",
    "from keras.utils.np_utils import to_categorical\n",
    "\n",
    "from keras.models import Sequential\n",
    "from keras.layers.core import Lambda, Dense, Flatten, Dropout\n",
    "from keras.callbacks import EarlyStopping\n",
    "from keras.layers import BatchNormalization, Convolution2D , MaxPooling2D\n",
    "from keras.optimizers import Adam\n",
    "\n",
    "from keras import backend as K\n",
    "from keras.preprocessing.image import ImageDataGenerator\n",
    "\n",
    "from sklearn.model_selection import train_test_split\n",
    "\n",
    "# Input data files are available in the \"../input/\" directory.\n",
    "# For example, running this (by clicking run or pressing Shift+Enter) will list the files in the input directory\n",
    "\n",
    "import os\n",
    "for x in os.listdir(\"../input\"): print(x)\n",
    "\n",
    "# Any results you write to the current directory are saved as output."
   ]
  },
  {
   "cell_type": "markdown",
   "metadata": {
    "_cell_guid": "22a7fd70-ab61-432d-24cb-93e558414495",
    "_uuid": "62fbd0fe9c338b7ac0b04e688c8ee7947e6170f7"
   },
   "source": [
    "Load Train and Test data\n",
    "========================"
   ]
  },
  {
   "cell_type": "code",
   "execution_count": 2,
   "metadata": {
    "_cell_guid": "2ec570a6-b41a-2139-5e0e-4941c4f0a9d0",
    "_uuid": "67f0854ad0d812a1395130144a0adef9966fec88"
   },
   "outputs": [],
   "source": [
    "# create the training & test sets, skipping the header row with [1:]\n",
    "train = pd.read_csv(\"../input/train.csv\")\n",
    "test= pd.read_csv(\"../input/test.csv\")"
   ]
  },
  {
   "cell_type": "code",
   "execution_count": 3,
   "metadata": {
    "_cell_guid": "1ae10fe0-dde9-7659-f53d-1a1bd625cfb1",
    "_uuid": "bdffbed77ce62da528c60e43f2b1bea9f57fcdbc"
   },
   "outputs": [],
   "source": [
    "X_train = (train.iloc[:,1:].values).astype('float32') # all pixel values\n",
    "y_train = train.iloc[:,0].values.astype('int32') # only labels i.e targets digits\n",
    "X_test = test.values.astype('float32')"
   ]
  },
  {
   "cell_type": "code",
   "execution_count": 4,
   "metadata": {},
   "outputs": [],
   "source": [
    "# Convert train datset to (num_images, img_rows, img_cols, colour_channel_gray) format\n",
    "X_train = X_train.reshape(X_train.shape[0], 28, 28,1)\n",
    "X_test = X_test.reshape(X_test.shape[0], 28, 28,1)"
   ]
  },
  {
   "cell_type": "markdown",
   "metadata": {
    "_cell_guid": "1232c385-3cb2-56fd-4d1d-f027df7bc78e",
    "_uuid": "185d620525e041eb61aabce19e8536614ab50870"
   },
   "source": [
    "Preprocessing the digit images\n",
    "=============================="
   ]
  },
  {
   "cell_type": "markdown",
   "metadata": {
    "_cell_guid": "6fcc1f9e-1586-e393-49ba-50c73564e0ed",
    "_uuid": "b8847f48f7408c93ce795db16f30c1b7c6a8cf89"
   },
   "source": [
    "Feature Standardization\n",
    "-----------------------"
   ]
  },
  {
   "cell_type": "code",
   "execution_count": 5,
   "metadata": {
    "_cell_guid": "a3f837ef-0373-8d91-46e6-30992cf73166",
    "_uuid": "528a370b381c91b73131a8c7a4217968278696c8"
   },
   "outputs": [],
   "source": [
    "mean_px = X_train.mean().astype(np.float32)\n",
    "std_px = X_train.std().astype(np.float32)\n",
    "\n",
    "def standardize(x): \n",
    "    return (x-mean_px)/std_px"
   ]
  },
  {
   "cell_type": "markdown",
   "metadata": {
    "_cell_guid": "725c55fc-9742-a63c-9822-c67ab0c773ee",
    "_uuid": "532d3f3bd26b0dfb42bc0c96e9710269234fae9b"
   },
   "source": [
    "One Hot encoding of labels\n",
    "--------------------------"
   ]
  },
  {
   "cell_type": "code",
   "execution_count": 6,
   "metadata": {
    "_cell_guid": "c879f076-b3dd-6cb1-e2d9-2f404f2ed132",
    "_uuid": "41bb3082e71111d73dd0432f9f60261f5be05e15"
   },
   "outputs": [
    {
     "data": {
      "text/plain": [
       "10"
      ]
     },
     "execution_count": 6,
     "metadata": {},
     "output_type": "execute_result"
    }
   ],
   "source": [
    "y_train= to_categorical(y_train)\n",
    "num_classes = y_train.shape[1]\n",
    "num_classes"
   ]
  },
  {
   "cell_type": "markdown",
   "metadata": {
    "_cell_guid": "6a89dcdd-7b68-6ed1-2c39-b3a1edb3e7be",
    "_uuid": "dc7ece2b7ee08767b664149d67d922d8c1d0bbb1"
   },
   "source": [
    "Designing Neural Network Architecture\n",
    "====================================="
   ]
  },
  {
   "cell_type": "code",
   "execution_count": 7,
   "metadata": {
    "_cell_guid": "39107235-d87a-af4d-44fb-80c9c3aa0212",
    "_uuid": "1070353d05490ccec23933c62f11cdfd2d7e5032"
   },
   "outputs": [],
   "source": [
    "# fix random seed for reproducibility\n",
    "seed = 43\n",
    "np.random.seed(seed)"
   ]
  },
  {
   "cell_type": "markdown",
   "metadata": {
    "_uuid": "841a6f3b78b607e142f3e18d88bd7957202e4dcb"
   },
   "source": [
    "Cross Validation\n",
    "----------------"
   ]
  },
  {
   "cell_type": "code",
   "execution_count": 8,
   "metadata": {
    "_cell_guid": "9071d720-da50-8530-e9f3-1f0c37aac7ff",
    "_uuid": "0cff7e02b1ee8894b4ee9080b9268558aaa4e7c5"
   },
   "outputs": [],
   "source": [
    "X = X_train\n",
    "y = y_train\n",
    "X_train, X_val, y_train, y_val = train_test_split(X_train, y_train, test_size=0.10, random_state=42)"
   ]
  },
  {
   "cell_type": "markdown",
   "metadata": {},
   "source": [
    "Data Augmentation\n",
    "-----------------"
   ]
  },
  {
   "cell_type": "code",
   "execution_count": 9,
   "metadata": {},
   "outputs": [],
   "source": [
    "batch_size = 64\n",
    "gen = ImageDataGenerator()\n",
    "batches = gen.flow(X_train, y_train, batch_size=batch_size)\n",
    "val_batches = gen.flow(X_val, y_val, batch_size=batch_size)"
   ]
  },
  {
   "cell_type": "markdown",
   "metadata": {
    "_uuid": "538f504c44e14d389c70b2f35b7225de61b9015d"
   },
   "source": [
    "Adding Batch Normalization\n",
    "--------------------------"
   ]
  },
  {
   "cell_type": "code",
   "execution_count": 10,
   "metadata": {
    "_uuid": "8b72580fbb06f5f4f769c514cb0d7d2f15aa2c2f"
   },
   "outputs": [],
   "source": [
    "def get_bn_model():\n",
    "    model = Sequential([\n",
    "        Lambda(standardize, input_shape=(28,28,1)),\n",
    "        Convolution2D(32,(3,3), activation='relu'),\n",
    "        BatchNormalization(axis=1),\n",
    "        Convolution2D(32,(3,3), activation='relu'),\n",
    "        MaxPooling2D(),\n",
    "        BatchNormalization(axis=1),\n",
    "        Convolution2D(64,(3,3), activation='relu'),\n",
    "        BatchNormalization(axis=1),\n",
    "        Convolution2D(64,(3,3), activation='relu'),\n",
    "        MaxPooling2D(),\n",
    "        Flatten(),\n",
    "        BatchNormalization(),\n",
    "        Dense(512, activation='relu'),\n",
    "        BatchNormalization(),\n",
    "        Dense(10, activation='softmax')\n",
    "        ])\n",
    "    model.compile(Adam(), loss='categorical_crossentropy', metrics=['accuracy'])\n",
    "    return model"
   ]
  },
  {
   "cell_type": "code",
   "execution_count": 11,
   "metadata": {
    "_uuid": "78e382d0b3de14312e762edc480b5d215be82269"
   },
   "outputs": [
    {
     "name": "stdout",
     "output_type": "stream",
     "text": [
      "Epoch 1/30\n",
      "591/591 [==============================] - 76s 126ms/step - loss: 0.1105 - accuracy: 0.9659 - val_loss: 0.0467 - val_accuracy: 0.9856\n",
      "Epoch 2/30\n",
      "591/591 [==============================] - 74s 124ms/step - loss: 0.0419 - accuracy: 0.9864 - val_loss: 0.0503 - val_accuracy: 0.9856\n",
      "Epoch 3/30\n",
      "591/591 [==============================] - 70s 119ms/step - loss: 0.0273 - accuracy: 0.9914 - val_loss: 0.0434 - val_accuracy: 0.9870\n",
      "Epoch 4/30\n",
      "591/591 [==============================] - 70s 118ms/step - loss: 0.0210 - accuracy: 0.9930 - val_loss: 0.0372 - val_accuracy: 0.9892\n",
      "Epoch 5/30\n",
      "591/591 [==============================] - 69s 117ms/step - loss: 0.0190 - accuracy: 0.9938 - val_loss: 0.0493 - val_accuracy: 0.9853\n",
      "Epoch 6/30\n",
      "591/591 [==============================] - 73s 123ms/step - loss: 0.0165 - accuracy: 0.9945 - val_loss: 0.0486 - val_accuracy: 0.9870\n",
      "Epoch 7/30\n",
      "591/591 [==============================] - 68s 116ms/step - loss: 0.0155 - accuracy: 0.9951 - val_loss: 0.0505 - val_accuracy: 0.9861\n",
      "Epoch 8/30\n",
      "591/591 [==============================] - 70s 119ms/step - loss: 0.0152 - accuracy: 0.9949 - val_loss: 0.0306 - val_accuracy: 0.9911\n",
      "Epoch 9/30\n",
      "591/591 [==============================] - 70s 119ms/step - loss: 0.0108 - accuracy: 0.9965 - val_loss: 0.0418 - val_accuracy: 0.9887\n",
      "Epoch 10/30\n",
      "591/591 [==============================] - 69s 116ms/step - loss: 0.0124 - accuracy: 0.9957 - val_loss: 0.0532 - val_accuracy: 0.9844\n",
      "Epoch 11/30\n",
      "591/591 [==============================] - 71s 121ms/step - loss: 0.0112 - accuracy: 0.9964 - val_loss: 0.0305 - val_accuracy: 0.9918\n",
      "Epoch 12/30\n",
      "591/591 [==============================] - 73s 123ms/step - loss: 0.0109 - accuracy: 0.9964 - val_loss: 0.0351 - val_accuracy: 0.9913\n",
      "Epoch 13/30\n",
      "591/591 [==============================] - 72s 121ms/step - loss: 0.0091 - accuracy: 0.9969 - val_loss: 0.0299 - val_accuracy: 0.9916\n",
      "Epoch 14/30\n",
      "591/591 [==============================] - 70s 118ms/step - loss: 0.0061 - accuracy: 0.9983 - val_loss: 0.0336 - val_accuracy: 0.9916\n",
      "Epoch 15/30\n",
      "591/591 [==============================] - 74s 125ms/step - loss: 0.0090 - accuracy: 0.9972 - val_loss: 0.0417 - val_accuracy: 0.9880\n",
      "Epoch 16/30\n",
      "591/591 [==============================] - 72s 122ms/step - loss: 0.0091 - accuracy: 0.9968 - val_loss: 0.0458 - val_accuracy: 0.9882\n",
      "Epoch 17/30\n",
      "591/591 [==============================] - 69s 116ms/step - loss: 0.0050 - accuracy: 0.9982 - val_loss: 0.0351 - val_accuracy: 0.9918\n",
      "Epoch 18/30\n",
      "591/591 [==============================] - 71s 120ms/step - loss: 0.0064 - accuracy: 0.9979 - val_loss: 0.0422 - val_accuracy: 0.9901\n",
      "Epoch 19/30\n",
      "591/591 [==============================] - 74s 125ms/step - loss: 0.0071 - accuracy: 0.9973 - val_loss: 0.0333 - val_accuracy: 0.9918\n",
      "Epoch 20/30\n",
      "591/591 [==============================] - 71s 120ms/step - loss: 0.0076 - accuracy: 0.9973 - val_loss: 0.0412 - val_accuracy: 0.9909\n",
      "Epoch 21/30\n",
      "591/591 [==============================] - 71s 120ms/step - loss: 0.0040 - accuracy: 0.9988 - val_loss: 0.0435 - val_accuracy: 0.9921\n",
      "Epoch 22/30\n",
      "591/591 [==============================] - 71s 120ms/step - loss: 0.0034 - accuracy: 0.9990 - val_loss: 0.0308 - val_accuracy: 0.9923\n",
      "Epoch 23/30\n",
      "591/591 [==============================] - 68s 116ms/step - loss: 0.0037 - accuracy: 0.9988 - val_loss: 0.0260 - val_accuracy: 0.9945\n",
      "Epoch 24/30\n",
      "591/591 [==============================] - 68s 115ms/step - loss: 0.0037 - accuracy: 0.9987 - val_loss: 0.0403 - val_accuracy: 0.9918\n",
      "Epoch 25/30\n",
      "591/591 [==============================] - 67s 113ms/step - loss: 0.0050 - accuracy: 0.9983 - val_loss: 0.0541 - val_accuracy: 0.9894\n",
      "Epoch 26/30\n",
      "591/591 [==============================] - 70s 119ms/step - loss: 0.0044 - accuracy: 0.9984 - val_loss: 0.0262 - val_accuracy: 0.9942\n",
      "Epoch 27/30\n",
      "591/591 [==============================] - 75s 126ms/step - loss: 0.0048 - accuracy: 0.9984 - val_loss: 0.0409 - val_accuracy: 0.9918\n",
      "Epoch 28/30\n",
      "591/591 [==============================] - 69s 116ms/step - loss: 0.0032 - accuracy: 0.9989 - val_loss: 0.0341 - val_accuracy: 0.9930\n",
      "Epoch 29/30\n",
      "591/591 [==============================] - 76s 128ms/step - loss: 0.0025 - accuracy: 0.9993 - val_loss: 0.0315 - val_accuracy: 0.9925\n",
      "Epoch 30/30\n",
      "591/591 [==============================] - 69s 117ms/step - loss: 0.0024 - accuracy: 0.9993 - val_loss: 0.0317 - val_accuracy: 0.9937\n"
     ]
    }
   ],
   "source": [
    "model= get_bn_model()\n",
    "model.optimizer.lr=0.001\n",
    "history=model.fit(batches, steps_per_epoch=len(batches), epochs=30,\n",
    "                    validation_data=val_batches, validation_steps=val_batches.n//batch_size)"
   ]
  },
  {
   "cell_type": "code",
   "execution_count": 12,
   "metadata": {
    "_cell_guid": "9f344366-c372-0b04-b7e0-860778d4bfd3",
    "_uuid": "6900e38c62028692b9f101b94730c527129675cc"
   },
   "outputs": [],
   "source": [
    "history_dict = history.history"
   ]
  },
  {
   "cell_type": "code",
   "execution_count": 13,
   "metadata": {
    "_cell_guid": "df40f5fc-586a-1fae-025e-ee508a8d9b71",
    "_uuid": "c4b26ff79e0f186212266b60d03611ad58d0d5e3"
   },
   "outputs": [
    {
     "data": {
      "image/png": "[encoded data removed]",
      "text/plain": [
       "<Figure size 640x480 with 1 Axes>"
      ]
     },
     "metadata": {},
     "output_type": "display_data"
    }
   ],
   "source": [
    "loss_values = history_dict['loss']\n",
    "val_loss_values = history_dict['val_loss']\n",
    "epochs = range(1, len(loss_values) + 1)\n",
    "\n",
    "# \"bo\" is for \"blue dot\"\n",
    "plt.plot(epochs, loss_values, 'bo')\n",
    "# b+ is for \"blue crosses\"\n",
    "plt.plot(epochs, val_loss_values, 'b+')\n",
    "plt.xlabel('Epochs')\n",
    "plt.ylabel('Loss')\n",
    "\n",
    "plt.show()"
   ]
  },
  {
   "cell_type": "code",
   "execution_count": 14,
   "metadata": {
    "_cell_guid": "1ed6b756-00c2-d08c-c596-0ce496ec3d04",
    "_uuid": "fc9be5b885360ca9972e0d6b5da1ea36dc12cb5f"
   },
   "outputs": [
    {
     "data": {
      "image/png": "[encoded data removed]",
      "text/plain": [
       "<Figure size 640x480 with 1 Axes>"
      ]
     },
     "metadata": {},
     "output_type": "display_data"
    }
   ],
   "source": [
    "plt.clf()   # clear figure\n",
    "acc_values = history_dict['accuracy']\n",
    "val_acc_values = history_dict['val_accuracy']\n",
    "\n",
    "plt.plot(epochs, acc_values, 'bo')\n",
    "plt.plot(epochs, val_acc_values, 'b+')\n",
    "plt.xlabel('Epochs')\n",
    "plt.ylabel('Accuracy')\n",
    "\n",
    "plt.show()"
   ]
  },
  {
   "cell_type": "markdown",
   "metadata": {
    "_uuid": "8e4b16516a57e152a911f6e7ba7f4d70ff204512"
   },
   "source": [
    "Validated model\n",
    "---------------"
   ]
  },
  {
   "cell_type": "code",
   "execution_count": 15,
   "metadata": {
    "_uuid": "0fc055b482971b36561aaf9421c8a9c53df2900b"
   },
   "outputs": [
    {
     "name": "stdout",
     "output_type": "stream",
     "text": [
      "Epoch 1/50\n",
      "657/657 [==============================] - 76s 116ms/step - loss: 0.0124 - accuracy: 0.9968\n",
      "Epoch 2/50\n",
      "657/657 [==============================] - 85s 129ms/step - loss: 0.0042 - accuracy: 0.9985\n",
      "Epoch 3/50\n",
      "657/657 [==============================] - 82s 125ms/step - loss: 0.0031 - accuracy: 0.9989\n",
      "Epoch 4/50\n",
      "657/657 [==============================] - 78s 119ms/step - loss: 0.0022 - accuracy: 0.9991\n",
      "Epoch 5/50\n",
      "657/657 [==============================] - 86s 131ms/step - loss: 0.0029 - accuracy: 0.9989\n",
      "Epoch 6/50\n",
      "657/657 [==============================] - 82s 124ms/step - loss: 0.0037 - accuracy: 0.9989\n",
      "Epoch 7/50\n",
      "657/657 [==============================] - 82s 126ms/step - loss: 0.0033 - accuracy: 0.9989\n",
      "Epoch 8/50\n",
      "657/657 [==============================] - 83s 126ms/step - loss: 0.0022 - accuracy: 0.9993\n",
      "Epoch 9/50\n",
      "657/657 [==============================] - 83s 126ms/step - loss: 0.0018 - accuracy: 0.9995\n",
      "Epoch 10/50\n",
      "657/657 [==============================] - 83s 126ms/step - loss: 0.0038 - accuracy: 0.9989\n",
      "Epoch 11/50\n",
      "657/657 [==============================] - 78s 118ms/step - loss: 0.0017 - accuracy: 0.9996\n",
      "Epoch 12/50\n",
      "657/657 [==============================] - 80s 122ms/step - loss: 0.0041 - accuracy: 0.9988\n",
      "Epoch 13/50\n",
      "657/657 [==============================] - 83s 126ms/step - loss: 0.0041 - accuracy: 0.9990\n",
      "Epoch 14/50\n",
      "657/657 [==============================] - 83s 126ms/step - loss: 9.8998e-04 - accuracy: 0.9996\n",
      "Epoch 15/50\n",
      "657/657 [==============================] - 84s 127ms/step - loss: 0.0031 - accuracy: 0.9990\n",
      "Epoch 16/50\n",
      "657/657 [==============================] - 80s 121ms/step - loss: 0.0025 - accuracy: 0.9991\n",
      "Epoch 17/50\n",
      "657/657 [==============================] - 83s 127ms/step - loss: 8.7748e-04 - accuracy: 0.9998\n",
      "Epoch 18/50\n",
      "657/657 [==============================] - 79s 121ms/step - loss: 0.0037 - accuracy: 0.9989\n",
      "Epoch 19/50\n",
      "657/657 [==============================] - 80s 121ms/step - loss: 0.0029 - accuracy: 0.9991\n",
      "Epoch 20/50\n",
      "657/657 [==============================] - 75s 115ms/step - loss: 0.0017 - accuracy: 0.9993\n",
      "Epoch 21/50\n",
      "657/657 [==============================] - 75s 114ms/step - loss: 0.0018 - accuracy: 0.9995\n",
      "Epoch 22/50\n",
      "657/657 [==============================] - 84s 127ms/step - loss: 0.0019 - accuracy: 0.9994\n",
      "Epoch 23/50\n",
      "657/657 [==============================] - 76s 116ms/step - loss: 0.0017 - accuracy: 0.9995\n",
      "Epoch 24/50\n",
      "657/657 [==============================] - 85s 129ms/step - loss: 0.0033 - accuracy: 0.9992\n",
      "Epoch 25/50\n",
      "657/657 [==============================] - 78s 119ms/step - loss: 0.0033 - accuracy: 0.9989\n",
      "Epoch 26/50\n",
      "657/657 [==============================] - 87s 132ms/step - loss: 0.0030 - accuracy: 0.9991\n",
      "Epoch 27/50\n",
      "657/657 [==============================] - 76s 115ms/step - loss: 7.5850e-04 - accuracy: 0.9997\n",
      "Epoch 28/50\n",
      "657/657 [==============================] - 77s 117ms/step - loss: 0.0026 - accuracy: 0.9993\n",
      "Epoch 29/50\n",
      "657/657 [==============================] - 90s 137ms/step - loss: 0.0015 - accuracy: 0.9995\n",
      "Epoch 30/50\n",
      "657/657 [==============================] - 79s 121ms/step - loss: 0.0023 - accuracy: 0.9992\n",
      "Epoch 31/50\n",
      "657/657 [==============================] - 88s 133ms/step - loss: 0.0020 - accuracy: 0.9993\n",
      "Epoch 32/50\n",
      "657/657 [==============================] - 88s 134ms/step - loss: 0.0017 - accuracy: 0.9993\n",
      "Epoch 33/50\n",
      "657/657 [==============================] - 79s 120ms/step - loss: 0.0011 - accuracy: 0.9996\n",
      "Epoch 34/50\n",
      "657/657 [==============================] - 82s 125ms/step - loss: 0.0017 - accuracy: 0.9995\n",
      "Epoch 35/50\n",
      "657/657 [==============================] - 79s 121ms/step - loss: 0.0011 - accuracy: 0.9997\n",
      "Epoch 36/50\n",
      "657/657 [==============================] - 88s 134ms/step - loss: 0.0018 - accuracy: 0.9995\n",
      "Epoch 37/50\n",
      "657/657 [==============================] - 73s 111ms/step - loss: 0.0018 - accuracy: 0.9995\n",
      "Epoch 38/50\n",
      "657/657 [==============================] - 77s 118ms/step - loss: 0.0012 - accuracy: 0.9996\n",
      "Epoch 39/50\n",
      "657/657 [==============================] - 82s 124ms/step - loss: 0.0023 - accuracy: 0.9993\n",
      "Epoch 40/50\n",
      "657/657 [==============================] - 89s 136ms/step - loss: 7.9190e-04 - accuracy: 0.9997\n",
      "Epoch 41/50\n",
      "657/657 [==============================] - 79s 120ms/step - loss: 0.0010 - accuracy: 0.9997\n",
      "Epoch 42/50\n",
      "657/657 [==============================] - 83s 126ms/step - loss: 0.0013 - accuracy: 0.9996\n",
      "Epoch 43/50\n",
      "657/657 [==============================] - 79s 120ms/step - loss: 0.0017 - accuracy: 0.9994\n",
      "Epoch 44/50\n",
      "657/657 [==============================] - 82s 125ms/step - loss: 0.0026 - accuracy: 0.9993\n",
      "Epoch 45/50\n",
      "657/657 [==============================] - 81s 123ms/step - loss: 0.0010 - accuracy: 0.9996\n",
      "Epoch 46/50\n",
      "657/657 [==============================] - 77s 117ms/step - loss: 7.1351e-04 - accuracy: 0.9997\n",
      "Epoch 47/50\n",
      "657/657 [==============================] - 85s 130ms/step - loss: 7.8089e-04 - accuracy: 0.9997\n",
      "Epoch 48/50\n",
      "657/657 [==============================] - 81s 123ms/step - loss: 0.0021 - accuracy: 0.9995\n",
      "Epoch 49/50\n",
      "657/657 [==============================] - 80s 122ms/step - loss: 0.0024 - accuracy: 0.9993\n",
      "Epoch 50/50\n",
      "657/657 [==============================] - 81s 124ms/step - loss: 0.0012 - accuracy: 0.9995\n"
     ]
    }
   ],
   "source": [
    "model.optimizer.lr = 0.001\n",
    "batch_size = 64\n",
    "gen = ImageDataGenerator()\n",
    "batches = gen.flow(X, y, batch_size=batch_size)\n",
    "history = model.fit(batches, steps_per_epoch=len(batches), epochs=30)"
   ]
  },
  {
   "cell_type": "code",
   "execution_count": 18,
   "metadata": {},
   "outputs": [
    {
     "data": {
      "image/png": "[encoded data removed]",
      "text/plain": [
       "<Figure size 640x480 with 1 Axes>"
      ]
     },
     "metadata": {},
     "output_type": "display_data"
    },
    {
     "data": {
      "image/png": "[encoded data removed]",
      "text/plain": [
       "<Figure size 640x480 with 1 Axes>"
      ]
     },
     "metadata": {},
     "output_type": "display_data"
    }
   ],
   "source": [
    "history_dict = history.history\n",
    "\n",
    "loss_values = history_dict['loss']\n",
    "epochs = range(1, len(loss_values) + 1)\n",
    "\n",
    "# \"bo\" is for \"blue dot\"\n",
    "plt.plot(epochs, loss_values, 'bo')\n",
    "plt.xlabel('Epochs')\n",
    "plt.ylabel('Loss')\n",
    "\n",
    "plt.show()\n",
    "\n",
    "plt.clf()   # clear figure\n",
    "acc_values = history_dict['accuracy']\n",
    "\n",
    "plt.plot(epochs, acc_values, 'bo')\n",
    "plt.xlabel('Epochs')\n",
    "plt.ylabel('Accuracy')\n",
    "\n",
    "plt.show()"
   ]
  },
  {
   "cell_type": "markdown",
   "metadata": {},
   "source": [
    "Tests\n",
    "-----"
   ]
  },
  {
   "cell_type": "code",
   "execution_count": 16,
   "metadata": {
    "_cell_guid": "c2841d54-f3dd-1ee8-a30d-4457dec0a67a",
    "_uuid": "4262c6bfb15ec96993e83bd2a2552eadf14fb33d",
    "tags": []
   },
   "outputs": [],
   "source": [
    "predictions = model.predict(X_test, verbose=0)\n",
    "predictions = np.argmax(predictions, axis=1)\n",
    "\n",
    "submissions=pd.DataFrame({\"ImageId\": list(range(1,len(predictions)+1)),\n",
    "                         \"Label\": predictions})\n",
    "submissions.to_csv(\"../DR.csv\", index=False, header=True)"
   ]
  },
  {
   "cell_type": "code",
   "execution_count": 38,
   "metadata": {},
   "outputs": [
    {
     "data": {
      "image/png": "[encoded data removed]",
      "text/plain": [
       "<Figure size 640x480 with 9 Axes>"
      ]
     },
     "metadata": {},
     "output_type": "display_data"
    }
   ],
   "source": [
    "#Convert train datset to (num_images, img_rows, img_cols) format \n",
    "X_test = X_test.reshape(X_test.shape[0], 28, 28)\n",
    "\n",
    "for i in range(9):\n",
    "    plt.subplot(1,9,i+1)\n",
    "    plt.imshow(X_test[i], cmap=plt.get_cmap('gray'))\n",
    "    plt.title(predictions[i])"
   ]
  },
  {
   "cell_type": "code",
   "execution_count": null,
   "metadata": {},
   "outputs": [],
   "source": []
  }
 ],
 "metadata": {
  "_change_revision": 0,
  "_is_fork": false,
  "kernelspec": {
   "display_name": "Python 3 (ipykernel)",
   "language": "python",
   "name": "python3"
  },
  "language_info": {
   "codemirror_mode": {
    "name": "ipython",
    "version": 3
   },
   "file_extension": ".py",
   "mimetype": "text/x-python",
   "name": "python",
   "nbconvert_exporter": "python",
   "pygments_lexer": "ipython3",
   "version": "3.8.15"
  }
 },
 "nbformat": 4,
 "nbformat_minor": 4
}
